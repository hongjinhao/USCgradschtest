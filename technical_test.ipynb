{
 "cells": [
  {
   "cell_type": "markdown",
   "id": "3ea2ea4e",
   "metadata": {},
   "source": [
    "## USC Grad School Part Time Technical Test 1"
   ]
  },
  {
   "cell_type": "code",
   "execution_count": 32,
   "id": "df11ef91",
   "metadata": {},
   "outputs": [],
   "source": [
    "import pandas as pd\n",
    "import numpy as np\n",
    "import seaborn as sb\n",
    "import matplotlib.pyplot as plt"
   ]
  },
  {
   "cell_type": "code",
   "execution_count": 8,
   "id": "3f67d0b6",
   "metadata": {},
   "outputs": [],
   "source": [
    "df = pd.read_csv(\"Divvy_Trips_2020_Q1-Copy1.csv\")"
   ]
  },
  {
   "cell_type": "code",
   "execution_count": 33,
   "id": "bdced710",
   "metadata": {},
   "outputs": [],
   "source": [
    "#!pip install sqlalchemy PyMySQL --quiet"
   ]
  },
  {
   "cell_type": "code",
   "execution_count": 34,
   "id": "5d80a50c",
   "metadata": {},
   "outputs": [
    {
     "name": "stdout",
     "output_type": "stream",
     "text": [
      "········\n"
     ]
    }
   ],
   "source": [
    "from sqlalchemy import create_engine\n",
    "from getpass import getpass\n",
    "password = getpass()\n",
    "engine = create_engine('mysql+pymysql://root:{}@localhost:3306/cycle'.format(password))"
   ]
  },
  {
   "cell_type": "code",
   "execution_count": 96,
   "id": "b2406f9b",
   "metadata": {},
   "outputs": [],
   "source": [
    "query = \"SELECT * FROM offices;\"\n",
    "office_df = pd.read_sql(query, engine)\n",
    "query = \"SELECT * FROM employees;\"\n",
    "em_df = pd.read_sql(query, engine)\n",
    "query = \"SELECT * FROM payments;\"\n",
    "pay_df = pd.read_sql(query, engine)\n",
    "query = \"SELECT * FROM productlines;\"\n",
    "pdl_df = pd.read_sql(query, engine)\n",
    "query = \"SELECT * FROM customers;\"\n",
    "cus_df = pd.read_sql(query, engine)"
   ]
  },
  {
   "cell_type": "code",
   "execution_count": 47,
   "id": "fbbe4ff0",
   "metadata": {},
   "outputs": [
    {
     "name": "stdout",
     "output_type": "stream",
     "text": [
      "Index(['officecode', 'city', 'phone', 'addressline1', 'addressline2', 'state',\n",
      "       'country', 'postalcode', 'territory', 'officelocation'],\n",
      "      dtype='object')\n"
     ]
    }
   ],
   "source": [
    "# Function to standardize column names\n",
    "df.columns = df.columns.str.strip()  # Remove leading/trailing whitespaces\n",
    "df.columns = df.columns.str.lower()  # Convert to lowercase\n",
    "df.columns = df.columns.str.replace(r'\\s+', '_', regex=True)  # Replace spaces with underscores\n",
    "df.columns = df.columns.str.replace(r'[^\\w_]', '', regex=True)  # Remove any non-word characters except underscore\n",
    "\n",
    "# Now the column names will be standardized\n",
    "print(df.columns)"
   ]
  },
  {
   "cell_type": "code",
   "execution_count": 60,
   "id": "56eca9a5",
   "metadata": {
    "scrolled": true
   },
   "outputs": [
    {
     "data": {
      "text/html": [
       "<div>\n",
       "<style scoped>\n",
       "    .dataframe tbody tr th:only-of-type {\n",
       "        vertical-align: middle;\n",
       "    }\n",
       "\n",
       "    .dataframe tbody tr th {\n",
       "        vertical-align: top;\n",
       "    }\n",
       "\n",
       "    .dataframe thead th {\n",
       "        text-align: right;\n",
       "    }\n",
       "</style>\n",
       "<table border=\"1\" class=\"dataframe\">\n",
       "  <thead>\n",
       "    <tr style=\"text-align: right;\">\n",
       "      <th></th>\n",
       "      <th>officeCode</th>\n",
       "      <th>city</th>\n",
       "      <th>phone</th>\n",
       "      <th>addressLine1</th>\n",
       "      <th>addressLine2</th>\n",
       "      <th>state</th>\n",
       "      <th>country</th>\n",
       "      <th>postalCode</th>\n",
       "      <th>territory</th>\n",
       "      <th>officeLocation</th>\n",
       "    </tr>\n",
       "  </thead>\n",
       "  <tbody>\n",
       "    <tr>\n",
       "      <th>5</th>\n",
       "      <td>6</td>\n",
       "      <td>Sydney</td>\n",
       "      <td>+61 2 9264 2451</td>\n",
       "      <td>5-11 Wentworth Avenue</td>\n",
       "      <td>Floor #2</td>\n",
       "      <td>NSW</td>\n",
       "      <td>Australia</td>\n",
       "      <td>2010</td>\n",
       "      <td>APAC</td>\n",
       "      <td>b'\\xe6\\x10\\x00\\x00\\x01\\x01\\x00\\x00\\x00m\\x1a\\xd...</td>\n",
       "    </tr>\n",
       "    <tr>\n",
       "      <th>3</th>\n",
       "      <td>4</td>\n",
       "      <td>Paris</td>\n",
       "      <td>+33 14 723 4404</td>\n",
       "      <td>43 Rue Jouffroy D'abbans</td>\n",
       "      <td>None</td>\n",
       "      <td>None</td>\n",
       "      <td>France</td>\n",
       "      <td>75017</td>\n",
       "      <td>EMEA</td>\n",
       "      <td>b'\\xe6\\x10\\x00\\x00\\x01\\x01\\x00\\x00\\x00\\xb8\\x91...</td>\n",
       "    </tr>\n",
       "    <tr>\n",
       "      <th>4</th>\n",
       "      <td>5</td>\n",
       "      <td>Tokyo</td>\n",
       "      <td>+81 33 224 5000</td>\n",
       "      <td>4-1 Kioicho</td>\n",
       "      <td>None</td>\n",
       "      <td>Chiyoda-Ku</td>\n",
       "      <td>Japan</td>\n",
       "      <td>102-8578</td>\n",
       "      <td>Japan</td>\n",
       "      <td>b'\\xe6\\x10\\x00\\x00\\x01\\x01\\x00\\x00\\x00N\\x0e\\x9...</td>\n",
       "    </tr>\n",
       "    <tr>\n",
       "      <th>6</th>\n",
       "      <td>7</td>\n",
       "      <td>London</td>\n",
       "      <td>+44 20 7877 2041</td>\n",
       "      <td>25 Old Broad Street</td>\n",
       "      <td>Level 7</td>\n",
       "      <td>None</td>\n",
       "      <td>UK</td>\n",
       "      <td>EC2N 1HN</td>\n",
       "      <td>EMEA</td>\n",
       "      <td>b'\\xe6\\x10\\x00\\x00\\x01\\x01\\x00\\x00\\x00/\\xf7\\xc...</td>\n",
       "    </tr>\n",
       "    <tr>\n",
       "      <th>0</th>\n",
       "      <td>1</td>\n",
       "      <td>San Francisco</td>\n",
       "      <td>+1 650 219 4782</td>\n",
       "      <td>100 Market Street</td>\n",
       "      <td>Suite 300</td>\n",
       "      <td>CA</td>\n",
       "      <td>USA</td>\n",
       "      <td>94080</td>\n",
       "      <td>NA</td>\n",
       "      <td>b'\\xe6\\x10\\x00\\x00\\x01\\x01\\x00\\x00\\x00\\xd3\\xda...</td>\n",
       "    </tr>\n",
       "    <tr>\n",
       "      <th>1</th>\n",
       "      <td>2</td>\n",
       "      <td>Boston</td>\n",
       "      <td>+1 215 837 0825</td>\n",
       "      <td>1550 Court Place</td>\n",
       "      <td>Suite 102</td>\n",
       "      <td>MA</td>\n",
       "      <td>USA</td>\n",
       "      <td>02107</td>\n",
       "      <td>NA</td>\n",
       "      <td>b'\\xe6\\x10\\x00\\x00\\x01\\x01\\x00\\x00\\x00\\xc4\\x0b...</td>\n",
       "    </tr>\n",
       "    <tr>\n",
       "      <th>2</th>\n",
       "      <td>3</td>\n",
       "      <td>NYC</td>\n",
       "      <td>+1 212 555 3000</td>\n",
       "      <td>523 East 53rd Street</td>\n",
       "      <td>apt. 5A</td>\n",
       "      <td>NY</td>\n",
       "      <td>USA</td>\n",
       "      <td>10022</td>\n",
       "      <td>NA</td>\n",
       "      <td>b'\\xe6\\x10\\x00\\x00\\x01\\x01\\x00\\x00\\x00-\\xea\\x9...</td>\n",
       "    </tr>\n",
       "  </tbody>\n",
       "</table>\n",
       "</div>"
      ],
      "text/plain": [
       "  officeCode           city             phone              addressLine1  \\\n",
       "5          6         Sydney   +61 2 9264 2451     5-11 Wentworth Avenue   \n",
       "3          4          Paris   +33 14 723 4404  43 Rue Jouffroy D'abbans   \n",
       "4          5          Tokyo   +81 33 224 5000               4-1 Kioicho   \n",
       "6          7         London  +44 20 7877 2041       25 Old Broad Street   \n",
       "0          1  San Francisco   +1 650 219 4782         100 Market Street   \n",
       "1          2         Boston   +1 215 837 0825          1550 Court Place   \n",
       "2          3            NYC   +1 212 555 3000      523 East 53rd Street   \n",
       "\n",
       "  addressLine2       state    country postalCode territory  \\\n",
       "5     Floor #2         NSW  Australia       2010      APAC   \n",
       "3         None        None     France      75017      EMEA   \n",
       "4         None  Chiyoda-Ku      Japan   102-8578     Japan   \n",
       "6      Level 7        None         UK   EC2N 1HN      EMEA   \n",
       "0    Suite 300          CA        USA      94080        NA   \n",
       "1    Suite 102          MA        USA      02107        NA   \n",
       "2      apt. 5A          NY        USA      10022        NA   \n",
       "\n",
       "                                      officeLocation  \n",
       "5  b'\\xe6\\x10\\x00\\x00\\x01\\x01\\x00\\x00\\x00m\\x1a\\xd...  \n",
       "3  b'\\xe6\\x10\\x00\\x00\\x01\\x01\\x00\\x00\\x00\\xb8\\x91...  \n",
       "4  b'\\xe6\\x10\\x00\\x00\\x01\\x01\\x00\\x00\\x00N\\x0e\\x9...  \n",
       "6  b'\\xe6\\x10\\x00\\x00\\x01\\x01\\x00\\x00\\x00/\\xf7\\xc...  \n",
       "0  b'\\xe6\\x10\\x00\\x00\\x01\\x01\\x00\\x00\\x00\\xd3\\xda...  \n",
       "1  b'\\xe6\\x10\\x00\\x00\\x01\\x01\\x00\\x00\\x00\\xc4\\x0b...  \n",
       "2  b'\\xe6\\x10\\x00\\x00\\x01\\x01\\x00\\x00\\x00-\\xea\\x9...  "
      ]
     },
     "execution_count": 60,
     "metadata": {},
     "output_type": "execute_result"
    }
   ],
   "source": [
    "office_df.sort_values(by = [\"country\", \"state\", \"city\"])"
   ]
  },
  {
   "cell_type": "code",
   "execution_count": 61,
   "id": "cac831ce",
   "metadata": {},
   "outputs": [
    {
     "data": {
      "text/plain": [
       "employeeNumber    23\n",
       "lastName          23\n",
       "firstName         23\n",
       "extension         23\n",
       "email             23\n",
       "reportsTo         22\n",
       "jobTitle          23\n",
       "officeCode        23\n",
       "dtype: int64"
      ]
     },
     "execution_count": 61,
     "metadata": {},
     "output_type": "execute_result"
    }
   ],
   "source": [
    "em_df.count()"
   ]
  },
  {
   "cell_type": "code",
   "execution_count": 66,
   "id": "4a18cb46",
   "metadata": {},
   "outputs": [
    {
     "data": {
      "text/plain": [
       "8853839.0"
      ]
     },
     "execution_count": 66,
     "metadata": {},
     "output_type": "execute_result"
    }
   ],
   "source": [
    "pay_df[\"amount\"].sum().round()"
   ]
  },
  {
   "cell_type": "code",
   "execution_count": 76,
   "id": "6c427d98",
   "metadata": {
    "scrolled": true
   },
   "outputs": [
    {
     "data": {
      "text/html": [
       "<div>\n",
       "<style scoped>\n",
       "    .dataframe tbody tr th:only-of-type {\n",
       "        vertical-align: middle;\n",
       "    }\n",
       "\n",
       "    .dataframe tbody tr th {\n",
       "        vertical-align: top;\n",
       "    }\n",
       "\n",
       "    .dataframe thead th {\n",
       "        text-align: right;\n",
       "    }\n",
       "</style>\n",
       "<table border=\"1\" class=\"dataframe\">\n",
       "  <thead>\n",
       "    <tr style=\"text-align: right;\">\n",
       "      <th></th>\n",
       "      <th>productLine</th>\n",
       "      <th>textDescription</th>\n",
       "      <th>htmlDescription</th>\n",
       "      <th>image</th>\n",
       "    </tr>\n",
       "  </thead>\n",
       "  <tbody>\n",
       "    <tr>\n",
       "      <th>0</th>\n",
       "      <td>Classic Cars</td>\n",
       "      <td>Attention car enthusiasts: Make your wildest c...</td>\n",
       "      <td>None</td>\n",
       "      <td>None</td>\n",
       "    </tr>\n",
       "    <tr>\n",
       "      <th>6</th>\n",
       "      <td>Vintage Cars</td>\n",
       "      <td>Our Vintage Car models realistically portray a...</td>\n",
       "      <td>None</td>\n",
       "      <td>None</td>\n",
       "    </tr>\n",
       "  </tbody>\n",
       "</table>\n",
       "</div>"
      ],
      "text/plain": [
       "    productLine                                    textDescription  \\\n",
       "0  Classic Cars  Attention car enthusiasts: Make your wildest c...   \n",
       "6  Vintage Cars  Our Vintage Car models realistically portray a...   \n",
       "\n",
       "  htmlDescription image  \n",
       "0            None  None  \n",
       "6            None  None  "
      ]
     },
     "execution_count": 76,
     "metadata": {},
     "output_type": "execute_result"
    }
   ],
   "source": [
    "pdl_df[pdl_df['productLine'].str.contains('.*Cars.*', na=False, regex=True)]\n"
   ]
  },
  {
   "cell_type": "code",
   "execution_count": 85,
   "id": "a7009d17",
   "metadata": {
    "scrolled": true
   },
   "outputs": [
    {
     "data": {
      "text/html": [
       "<div>\n",
       "<style scoped>\n",
       "    .dataframe tbody tr th:only-of-type {\n",
       "        vertical-align: middle;\n",
       "    }\n",
       "\n",
       "    .dataframe tbody tr th {\n",
       "        vertical-align: top;\n",
       "    }\n",
       "\n",
       "    .dataframe thead th {\n",
       "        text-align: right;\n",
       "    }\n",
       "</style>\n",
       "<table border=\"1\" class=\"dataframe\">\n",
       "  <thead>\n",
       "    <tr style=\"text-align: right;\">\n",
       "      <th></th>\n",
       "      <th>checkNumber</th>\n",
       "      <th>paymentDate</th>\n",
       "      <th>amount</th>\n",
       "      <th>customerNumber</th>\n",
       "    </tr>\n",
       "  </thead>\n",
       "  <tbody>\n",
       "    <tr>\n",
       "      <th>0</th>\n",
       "      <td>AB661578</td>\n",
       "      <td>2004-07-28</td>\n",
       "      <td>9415.13</td>\n",
       "      <td>471</td>\n",
       "    </tr>\n",
       "    <tr>\n",
       "      <th>1</th>\n",
       "      <td>AD304085</td>\n",
       "      <td>2003-10-24</td>\n",
       "      <td>36798.88</td>\n",
       "      <td>299</td>\n",
       "    </tr>\n",
       "    <tr>\n",
       "      <th>2</th>\n",
       "      <td>AD832091</td>\n",
       "      <td>2004-09-09</td>\n",
       "      <td>1960.80</td>\n",
       "      <td>172</td>\n",
       "    </tr>\n",
       "    <tr>\n",
       "      <th>3</th>\n",
       "      <td>AE192287</td>\n",
       "      <td>2005-03-10</td>\n",
       "      <td>23602.90</td>\n",
       "      <td>186</td>\n",
       "    </tr>\n",
       "    <tr>\n",
       "      <th>4</th>\n",
       "      <td>AE215433</td>\n",
       "      <td>2005-03-05</td>\n",
       "      <td>101244.59</td>\n",
       "      <td>124</td>\n",
       "    </tr>\n",
       "  </tbody>\n",
       "</table>\n",
       "</div>"
      ],
      "text/plain": [
       "  checkNumber paymentDate     amount  customerNumber\n",
       "0    AB661578  2004-07-28    9415.13             471\n",
       "1    AD304085  2003-10-24   36798.88             299\n",
       "2    AD832091  2004-09-09    1960.80             172\n",
       "3    AE192287  2005-03-10   23602.90             186\n",
       "4    AE215433  2005-03-05  101244.59             124"
      ]
     },
     "execution_count": 85,
     "metadata": {},
     "output_type": "execute_result"
    }
   ],
   "source": [
    "pay_df.head()"
   ]
  },
  {
   "cell_type": "code",
   "execution_count": 87,
   "id": "befb64f0",
   "metadata": {},
   "outputs": [],
   "source": [
    "date = pd.to_datetime('2004-10-28')"
   ]
  },
  {
   "cell_type": "code",
   "execution_count": 89,
   "id": "773f8091",
   "metadata": {},
   "outputs": [],
   "source": [
    "date = pd.to_datetime('2004-10-28')\n",
    "mask = pay_df[\"paymentDate\"] == date\n",
    "pay_df = pay_df[mask]"
   ]
  },
  {
   "cell_type": "code",
   "execution_count": 93,
   "id": "3563f4e3",
   "metadata": {
    "scrolled": true
   },
   "outputs": [
    {
     "data": {
      "text/html": [
       "<div>\n",
       "<style scoped>\n",
       "    .dataframe tbody tr th:only-of-type {\n",
       "        vertical-align: middle;\n",
       "    }\n",
       "\n",
       "    .dataframe tbody tr th {\n",
       "        vertical-align: top;\n",
       "    }\n",
       "\n",
       "    .dataframe thead th {\n",
       "        text-align: right;\n",
       "    }\n",
       "</style>\n",
       "<table border=\"1\" class=\"dataframe\">\n",
       "  <thead>\n",
       "    <tr style=\"text-align: right;\">\n",
       "      <th></th>\n",
       "      <th>checkNumber</th>\n",
       "      <th>paymentDate</th>\n",
       "      <th>amount</th>\n",
       "      <th>customerNumber</th>\n",
       "    </tr>\n",
       "  </thead>\n",
       "  <tbody>\n",
       "    <tr>\n",
       "      <th>0</th>\n",
       "      <td>AB661578</td>\n",
       "      <td>2004-07-28</td>\n",
       "      <td>9415.13</td>\n",
       "      <td>471</td>\n",
       "    </tr>\n",
       "    <tr>\n",
       "      <th>1</th>\n",
       "      <td>AD304085</td>\n",
       "      <td>2003-10-24</td>\n",
       "      <td>36798.88</td>\n",
       "      <td>299</td>\n",
       "    </tr>\n",
       "    <tr>\n",
       "      <th>2</th>\n",
       "      <td>AD832091</td>\n",
       "      <td>2004-09-09</td>\n",
       "      <td>1960.80</td>\n",
       "      <td>172</td>\n",
       "    </tr>\n",
       "    <tr>\n",
       "      <th>3</th>\n",
       "      <td>AE192287</td>\n",
       "      <td>2005-03-10</td>\n",
       "      <td>23602.90</td>\n",
       "      <td>186</td>\n",
       "    </tr>\n",
       "    <tr>\n",
       "      <th>4</th>\n",
       "      <td>AE215433</td>\n",
       "      <td>2005-03-05</td>\n",
       "      <td>101244.59</td>\n",
       "      <td>124</td>\n",
       "    </tr>\n",
       "    <tr>\n",
       "      <th>...</th>\n",
       "      <td>...</td>\n",
       "      <td>...</td>\n",
       "      <td>...</td>\n",
       "      <td>...</td>\n",
       "    </tr>\n",
       "    <tr>\n",
       "      <th>268</th>\n",
       "      <td>PJ434867</td>\n",
       "      <td>2004-04-14</td>\n",
       "      <td>31670.37</td>\n",
       "      <td>412</td>\n",
       "    </tr>\n",
       "    <tr>\n",
       "      <th>269</th>\n",
       "      <td>PN238558</td>\n",
       "      <td>2003-12-05</td>\n",
       "      <td>55425.77</td>\n",
       "      <td>363</td>\n",
       "    </tr>\n",
       "    <tr>\n",
       "      <th>270</th>\n",
       "      <td>PO860906</td>\n",
       "      <td>2004-01-31</td>\n",
       "      <td>7310.42</td>\n",
       "      <td>489</td>\n",
       "    </tr>\n",
       "    <tr>\n",
       "      <th>271</th>\n",
       "      <td>PQ803830</td>\n",
       "      <td>2004-12-24</td>\n",
       "      <td>39440.59</td>\n",
       "      <td>323</td>\n",
       "    </tr>\n",
       "    <tr>\n",
       "      <th>272</th>\n",
       "      <td>PT550181</td>\n",
       "      <td>2004-02-29</td>\n",
       "      <td>12573.28</td>\n",
       "      <td>487</td>\n",
       "    </tr>\n",
       "  </tbody>\n",
       "</table>\n",
       "<p>273 rows × 4 columns</p>\n",
       "</div>"
      ],
      "text/plain": [
       "    checkNumber paymentDate     amount  customerNumber\n",
       "0      AB661578  2004-07-28    9415.13             471\n",
       "1      AD304085  2003-10-24   36798.88             299\n",
       "2      AD832091  2004-09-09    1960.80             172\n",
       "3      AE192287  2005-03-10   23602.90             186\n",
       "4      AE215433  2005-03-05  101244.59             124\n",
       "..          ...         ...        ...             ...\n",
       "268    PJ434867  2004-04-14   31670.37             412\n",
       "269    PN238558  2003-12-05   55425.77             363\n",
       "270    PO860906  2004-01-31    7310.42             489\n",
       "271    PQ803830  2004-12-24   39440.59             323\n",
       "272    PT550181  2004-02-29   12573.28             487\n",
       "\n",
       "[273 rows x 4 columns]"
      ]
     },
     "execution_count": 93,
     "metadata": {},
     "output_type": "execute_result"
    }
   ],
   "source": [
    "pay_df"
   ]
  },
  {
   "cell_type": "code",
   "execution_count": 120,
   "id": "1513f472",
   "metadata": {},
   "outputs": [
    {
     "data": {
      "text/html": [
       "<div>\n",
       "<style scoped>\n",
       "    .dataframe tbody tr th:only-of-type {\n",
       "        vertical-align: middle;\n",
       "    }\n",
       "\n",
       "    .dataframe tbody tr th {\n",
       "        vertical-align: top;\n",
       "    }\n",
       "\n",
       "    .dataframe thead th {\n",
       "        text-align: right;\n",
       "    }\n",
       "</style>\n",
       "<table border=\"1\" class=\"dataframe\">\n",
       "  <thead>\n",
       "    <tr style=\"text-align: right;\">\n",
       "      <th></th>\n",
       "      <th>customerNumber</th>\n",
       "      <th>customerName</th>\n",
       "      <th>contactLastName</th>\n",
       "      <th>contactFirstName</th>\n",
       "      <th>phone</th>\n",
       "      <th>addressLine1</th>\n",
       "      <th>addressLine2</th>\n",
       "      <th>city</th>\n",
       "      <th>state</th>\n",
       "      <th>postalCode</th>\n",
       "      <th>country</th>\n",
       "      <th>salesRepEmployeeNumber</th>\n",
       "      <th>creditLimit</th>\n",
       "      <th>customerLocation</th>\n",
       "    </tr>\n",
       "  </thead>\n",
       "  <tbody>\n",
       "    <tr>\n",
       "      <th>0</th>\n",
       "      <td>103</td>\n",
       "      <td>Atelier graphique</td>\n",
       "      <td>Schmitt</td>\n",
       "      <td>Carine</td>\n",
       "      <td>40.32.2555</td>\n",
       "      <td>54, rue Royale</td>\n",
       "      <td>None</td>\n",
       "      <td>Nantes</td>\n",
       "      <td>None</td>\n",
       "      <td>44000</td>\n",
       "      <td>France</td>\n",
       "      <td>1370.0</td>\n",
       "      <td>21000.0</td>\n",
       "      <td>b'\\xe6\\x10\\x00\\x00\\x01\\x01\\x00\\x00\\x00]\\xa5\\xb...</td>\n",
       "    </tr>\n",
       "    <tr>\n",
       "      <th>1</th>\n",
       "      <td>112</td>\n",
       "      <td>Signal Gift Stores</td>\n",
       "      <td>King</td>\n",
       "      <td>Jean</td>\n",
       "      <td>7025551838</td>\n",
       "      <td>8489 Strong St.</td>\n",
       "      <td>None</td>\n",
       "      <td>Las Vegas</td>\n",
       "      <td>NV</td>\n",
       "      <td>83030</td>\n",
       "      <td>USA</td>\n",
       "      <td>1166.0</td>\n",
       "      <td>71800.0</td>\n",
       "      <td>b'\\xe6\\x10\\x00\\x00\\x01\\x01\\x00\\x00\\x00o\\x0e\\xd...</td>\n",
       "    </tr>\n",
       "    <tr>\n",
       "      <th>2</th>\n",
       "      <td>114</td>\n",
       "      <td>Australian Collectors, Co.</td>\n",
       "      <td>Ferguson</td>\n",
       "      <td>Peter</td>\n",
       "      <td>03 9520 4555</td>\n",
       "      <td>636 St Kilda Road</td>\n",
       "      <td>Level 3</td>\n",
       "      <td>Melbourne</td>\n",
       "      <td>Victoria</td>\n",
       "      <td>3004</td>\n",
       "      <td>Australia</td>\n",
       "      <td>1611.0</td>\n",
       "      <td>117300.0</td>\n",
       "      <td>b'\\xe6\\x10\\x00\\x00\\x01\\x01\\x00\\x00\\x00\\xe3\\x16...</td>\n",
       "    </tr>\n",
       "    <tr>\n",
       "      <th>3</th>\n",
       "      <td>119</td>\n",
       "      <td>La Rochelle Gifts</td>\n",
       "      <td>Labrune</td>\n",
       "      <td>Janine</td>\n",
       "      <td>40.67.8555</td>\n",
       "      <td>67, rue des Cinquante Otages</td>\n",
       "      <td>None</td>\n",
       "      <td>Nantes</td>\n",
       "      <td>None</td>\n",
       "      <td>44000</td>\n",
       "      <td>France</td>\n",
       "      <td>1370.0</td>\n",
       "      <td>118200.0</td>\n",
       "      <td>b'\\xe6\\x10\\x00\\x00\\x01\\x01\\x00\\x00\\x00]\\xa5\\xb...</td>\n",
       "    </tr>\n",
       "    <tr>\n",
       "      <th>4</th>\n",
       "      <td>121</td>\n",
       "      <td>Baane Mini Imports</td>\n",
       "      <td>Bergulfsen</td>\n",
       "      <td>Jonas</td>\n",
       "      <td>07-98 9555</td>\n",
       "      <td>Erling Skakkes gate 78</td>\n",
       "      <td>None</td>\n",
       "      <td>Stavern</td>\n",
       "      <td>None</td>\n",
       "      <td>4110</td>\n",
       "      <td>Norway</td>\n",
       "      <td>1504.0</td>\n",
       "      <td>81700.0</td>\n",
       "      <td>b\"\\xe6\\x10\\x00\\x00\\x01\\x01\\x00\\x00\\x00\\x12\\xd4...</td>\n",
       "    </tr>\n",
       "    <tr>\n",
       "      <th>...</th>\n",
       "      <td>...</td>\n",
       "      <td>...</td>\n",
       "      <td>...</td>\n",
       "      <td>...</td>\n",
       "      <td>...</td>\n",
       "      <td>...</td>\n",
       "      <td>...</td>\n",
       "      <td>...</td>\n",
       "      <td>...</td>\n",
       "      <td>...</td>\n",
       "      <td>...</td>\n",
       "      <td>...</td>\n",
       "      <td>...</td>\n",
       "      <td>...</td>\n",
       "    </tr>\n",
       "    <tr>\n",
       "      <th>117</th>\n",
       "      <td>486</td>\n",
       "      <td>Motor Mint Distributors Inc.</td>\n",
       "      <td>Salazar</td>\n",
       "      <td>Rosa</td>\n",
       "      <td>2155559857</td>\n",
       "      <td>11328 Douglas Av.</td>\n",
       "      <td>None</td>\n",
       "      <td>Philadelphia</td>\n",
       "      <td>PA</td>\n",
       "      <td>71270</td>\n",
       "      <td>USA</td>\n",
       "      <td>1323.0</td>\n",
       "      <td>72600.0</td>\n",
       "      <td>b'\\xe6\\x10\\x00\\x00\\x01\\x01\\x00\\x00\\x00s\\x9c\\xd...</td>\n",
       "    </tr>\n",
       "    <tr>\n",
       "      <th>118</th>\n",
       "      <td>487</td>\n",
       "      <td>Signal Collectibles Ltd.</td>\n",
       "      <td>Taylor</td>\n",
       "      <td>Sue</td>\n",
       "      <td>4155554312</td>\n",
       "      <td>2793 Furth Circle</td>\n",
       "      <td>None</td>\n",
       "      <td>Brisbane</td>\n",
       "      <td>CA</td>\n",
       "      <td>94217</td>\n",
       "      <td>USA</td>\n",
       "      <td>1165.0</td>\n",
       "      <td>60300.0</td>\n",
       "      <td>b'\\xe6\\x10\\x00\\x00\\x01\\x01\\x00\\x00\\x00\\xa2\\x9b...</td>\n",
       "    </tr>\n",
       "    <tr>\n",
       "      <th>119</th>\n",
       "      <td>489</td>\n",
       "      <td>Double Decker Gift Stores, Ltd</td>\n",
       "      <td>Smith</td>\n",
       "      <td>Thomas</td>\n",
       "      <td>(171) 555-7555</td>\n",
       "      <td>120 Hanover Sq.</td>\n",
       "      <td>None</td>\n",
       "      <td>London</td>\n",
       "      <td>None</td>\n",
       "      <td>WA1 1DP</td>\n",
       "      <td>UK</td>\n",
       "      <td>1501.0</td>\n",
       "      <td>43300.0</td>\n",
       "      <td>b'\\xe6\\x10\\x00\\x00\\x01\\x01\\x00\\x00\\x00\\xdb I\\x...</td>\n",
       "    </tr>\n",
       "    <tr>\n",
       "      <th>120</th>\n",
       "      <td>495</td>\n",
       "      <td>Diecast Collectables</td>\n",
       "      <td>Franco</td>\n",
       "      <td>Valarie</td>\n",
       "      <td>6175552555</td>\n",
       "      <td>6251 Ingle Ln.</td>\n",
       "      <td>None</td>\n",
       "      <td>Boston</td>\n",
       "      <td>MA</td>\n",
       "      <td>51003</td>\n",
       "      <td>USA</td>\n",
       "      <td>1188.0</td>\n",
       "      <td>85100.0</td>\n",
       "      <td>b'\\xe6\\x10\\x00\\x00\\x01\\x01\\x00\\x00\\x00X\\xcb\\xf...</td>\n",
       "    </tr>\n",
       "    <tr>\n",
       "      <th>121</th>\n",
       "      <td>496</td>\n",
       "      <td>Kelly's Gift Shop</td>\n",
       "      <td>Snowden</td>\n",
       "      <td>Tony</td>\n",
       "      <td>+64 9 5555500</td>\n",
       "      <td>Arenales 1938 3'A'</td>\n",
       "      <td>None</td>\n",
       "      <td>Auckland</td>\n",
       "      <td>None</td>\n",
       "      <td>None</td>\n",
       "      <td>New Zealand</td>\n",
       "      <td>1612.0</td>\n",
       "      <td>110000.0</td>\n",
       "      <td>b'\\xe6\\x10\\x00\\x00\\x01\\x01\\x00\\x00\\x006\\x90.6m...</td>\n",
       "    </tr>\n",
       "  </tbody>\n",
       "</table>\n",
       "<p>122 rows × 14 columns</p>\n",
       "</div>"
      ],
      "text/plain": [
       "     customerNumber                    customerName contactLastName  \\\n",
       "0               103               Atelier graphique         Schmitt   \n",
       "1               112              Signal Gift Stores            King   \n",
       "2               114      Australian Collectors, Co.        Ferguson   \n",
       "3               119               La Rochelle Gifts         Labrune   \n",
       "4               121              Baane Mini Imports      Bergulfsen   \n",
       "..              ...                             ...             ...   \n",
       "117             486    Motor Mint Distributors Inc.         Salazar   \n",
       "118             487        Signal Collectibles Ltd.          Taylor   \n",
       "119             489  Double Decker Gift Stores, Ltd           Smith   \n",
       "120             495            Diecast Collectables          Franco   \n",
       "121             496               Kelly's Gift Shop         Snowden   \n",
       "\n",
       "    contactFirstName           phone                  addressLine1  \\\n",
       "0            Carine       40.32.2555                54, rue Royale   \n",
       "1               Jean      7025551838               8489 Strong St.   \n",
       "2              Peter    03 9520 4555             636 St Kilda Road   \n",
       "3            Janine       40.67.8555  67, rue des Cinquante Otages   \n",
       "4             Jonas       07-98 9555        Erling Skakkes gate 78   \n",
       "..               ...             ...                           ...   \n",
       "117             Rosa      2155559857             11328 Douglas Av.   \n",
       "118              Sue      4155554312             2793 Furth Circle   \n",
       "119          Thomas   (171) 555-7555               120 Hanover Sq.   \n",
       "120          Valarie      6175552555                6251 Ingle Ln.   \n",
       "121             Tony   +64 9 5555500            Arenales 1938 3'A'   \n",
       "\n",
       "    addressLine2          city     state postalCode      country  \\\n",
       "0           None        Nantes      None      44000       France   \n",
       "1           None     Las Vegas        NV      83030          USA   \n",
       "2        Level 3     Melbourne  Victoria       3004    Australia   \n",
       "3           None        Nantes      None      44000       France   \n",
       "4           None       Stavern      None       4110       Norway   \n",
       "..           ...           ...       ...        ...          ...   \n",
       "117         None  Philadelphia        PA      71270          USA   \n",
       "118         None      Brisbane        CA      94217          USA   \n",
       "119         None        London      None    WA1 1DP           UK   \n",
       "120         None        Boston        MA      51003          USA   \n",
       "121         None    Auckland        None       None  New Zealand   \n",
       "\n",
       "     salesRepEmployeeNumber  creditLimit  \\\n",
       "0                    1370.0      21000.0   \n",
       "1                    1166.0      71800.0   \n",
       "2                    1611.0     117300.0   \n",
       "3                    1370.0     118200.0   \n",
       "4                    1504.0      81700.0   \n",
       "..                      ...          ...   \n",
       "117                  1323.0      72600.0   \n",
       "118                  1165.0      60300.0   \n",
       "119                  1501.0      43300.0   \n",
       "120                  1188.0      85100.0   \n",
       "121                  1612.0     110000.0   \n",
       "\n",
       "                                      customerLocation  \n",
       "0    b'\\xe6\\x10\\x00\\x00\\x01\\x01\\x00\\x00\\x00]\\xa5\\xb...  \n",
       "1    b'\\xe6\\x10\\x00\\x00\\x01\\x01\\x00\\x00\\x00o\\x0e\\xd...  \n",
       "2    b'\\xe6\\x10\\x00\\x00\\x01\\x01\\x00\\x00\\x00\\xe3\\x16...  \n",
       "3    b'\\xe6\\x10\\x00\\x00\\x01\\x01\\x00\\x00\\x00]\\xa5\\xb...  \n",
       "4    b\"\\xe6\\x10\\x00\\x00\\x01\\x01\\x00\\x00\\x00\\x12\\xd4...  \n",
       "..                                                 ...  \n",
       "117  b'\\xe6\\x10\\x00\\x00\\x01\\x01\\x00\\x00\\x00s\\x9c\\xd...  \n",
       "118  b'\\xe6\\x10\\x00\\x00\\x01\\x01\\x00\\x00\\x00\\xa2\\x9b...  \n",
       "119  b'\\xe6\\x10\\x00\\x00\\x01\\x01\\x00\\x00\\x00\\xdb I\\x...  \n",
       "120  b'\\xe6\\x10\\x00\\x00\\x01\\x01\\x00\\x00\\x00X\\xcb\\xf...  \n",
       "121  b'\\xe6\\x10\\x00\\x00\\x01\\x01\\x00\\x00\\x006\\x90.6m...  \n",
       "\n",
       "[122 rows x 14 columns]"
      ]
     },
     "execution_count": 120,
     "metadata": {},
     "output_type": "execute_result"
    }
   ],
   "source": [
    "cus_df"
   ]
  },
  {
   "cell_type": "code",
   "execution_count": 107,
   "id": "38ad28b3",
   "metadata": {
    "scrolled": true
   },
   "outputs": [
    {
     "data": {
      "text/plain": [
       "<seaborn.axisgrid.FacetGrid at 0x2178353fa60>"
      ]
     },
     "execution_count": 107,
     "metadata": {},
     "output_type": "execute_result"
    },
    {
     "data": {
      "image/png": "[encoded data removed]",
      "text/plain": [
       "<Figure size 360x360 with 1 Axes>"
      ]
     },
     "metadata": {
      "needs_background": "light"
     },
     "output_type": "display_data"
    }
   ],
   "source": [
    "country_counts = cus_df['country'].value_counts()\n",
    "sorted_order = cus_df['country'].value_counts().index\n",
    "sb.catplot(y = \"country\", data = cus_df, kind = \"count\", order = sorted_order)"
   ]
  },
  {
   "cell_type": "code",
   "execution_count": 112,
   "id": "89f786ae",
   "metadata": {},
   "outputs": [
    {
     "data": {
      "image/png": "[encoded data removed]",
      "text/plain": [
       "<Figure size 432x432 with 1 Axes>"
      ]
     },
     "metadata": {},
     "output_type": "display_data"
    }
   ],
   "source": [
    "# Assuming cus_df is your DataFrame\n",
    "# Calculate the percentage of each country\n",
    "country_counts = cus_df['country'].value_counts()\n",
    "total = country_counts.sum()\n",
    "percentages = (country_counts / total) * 100\n",
    "\n",
    "# Separate countries into those above and below 5%\n",
    "threshold = 2\n",
    "above_threshold = percentages[percentages >= threshold]\n",
    "below_threshold = percentages[percentages < threshold]\n",
    "\n",
    "# Add an \"Others\" category for countries below 5%\n",
    "others = below_threshold.sum()\n",
    "final_counts = above_threshold.append(pd.Series(others, index=['Others']))\n",
    "\n",
    "# Sorted order for the pie chart\n",
    "sorted_order = final_counts.index\n",
    "\n",
    "# Plot the pie chart with the \"Others\" category\n",
    "plt.figure(figsize=(6, 6))\n",
    "plt.pie(final_counts, labels=sorted_order, autopct='%1.1f%%', startangle=90)\n",
    "plt.title('Distribution of Customer Countries')\n",
    "plt.show()"
   ]
  },
  {
   "cell_type": "code",
   "execution_count": 116,
   "id": "cf31b817",
   "metadata": {},
   "outputs": [
    {
     "data": {
      "text/plain": [
       "count       273.000000\n",
       "mean      32431.645531\n",
       "std       20997.116917\n",
       "min         615.450000\n",
       "25%       16909.840000\n",
       "50%       32077.440000\n",
       "75%       45352.470000\n",
       "max      120166.580000\n",
       "Name: amount, dtype: float64"
      ]
     },
     "execution_count": 116,
     "metadata": {},
     "output_type": "execute_result"
    }
   ],
   "source": [
    "pay_df[\"amount\"].describe()"
   ]
  },
  {
   "cell_type": "code",
   "execution_count": 118,
   "id": "cec922f4",
   "metadata": {},
   "outputs": [],
   "source": [
    "df = pd.merge(pay_df, cus_df, how = \"inner\", on = \"customerNumber\")"
   ]
  },
  {
   "cell_type": "code",
   "execution_count": 124,
   "id": "02f92829",
   "metadata": {},
   "outputs": [],
   "source": [
    "df = df[[\"amount\", \"country\"]]"
   ]
  },
  {
   "cell_type": "code",
   "execution_count": 126,
   "id": "bc1171ee",
   "metadata": {},
   "outputs": [],
   "source": [
    "pt = df.pivot_table(index = [\"country\"], values = [\"amount\"], aggfunc = \"mean\")"
   ]
  },
  {
   "cell_type": "code",
   "execution_count": 134,
   "id": "ffbdd08d",
   "metadata": {},
   "outputs": [],
   "source": [
    "pt = pt.sort_values(\"amount\").reset_index()"
   ]
  },
  {
   "cell_type": "code",
   "execution_count": 138,
   "id": "41d3dac7",
   "metadata": {},
   "outputs": [
    {
     "data": {
      "image/png": "[encoded data removed]",
      "text/plain": [
       "<Figure size 1008x576 with 1 Axes>"
      ]
     },
     "metadata": {
      "needs_background": "light"
     },
     "output_type": "display_data"
    }
   ],
   "source": [
    "# Set the figure size\n",
    "plt.figure(figsize=(14, 8))  # Width: 14, Height: 8 (adjust as needed)\n",
    "\n",
    "# Create the barplot\n",
    "sb.barplot(data=pt, x='country', y='amount')\n",
    "# Rotate x-axis labels to be vertical\n",
    "plt.xticks(rotation=90)\n",
    "# Display the plot\n",
    "plt.show()"
   ]
  },
  {
   "cell_type": "code",
   "execution_count": null,
   "id": "e6ffce44",
   "metadata": {},
   "outputs": [],
   "source": []
  }
 ],
 "metadata": {
  "kernelspec": {
   "display_name": "Python 3 (ipykernel)",
   "language": "python",
   "name": "python3"
  },
  "language_info": {
   "codemirror_mode": {
    "name": "ipython",
    "version": 3
   },
   "file_extension": ".py",
   "mimetype": "text/x-python",
   "name": "python",
   "nbconvert_exporter": "python",
   "pygments_lexer": "ipython3",
   "version": "3.9.7"
  }
 },
 "nbformat": 4,
 "nbformat_minor": 5
}
